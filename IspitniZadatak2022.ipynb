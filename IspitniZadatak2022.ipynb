{
  "cells": [
    {
      "cell_type": "markdown",
      "metadata": {
        "id": "xO3BCsVCW9xH"
      },
      "source": [
        "# Postavka zadatka \n",
        "\n",
        "Projekat iz predmeta Kriptologija 2\n",
        "(30 bodova)\n",
        "\n",
        "Na linku:\n",
        "https://drive.google.com/drive/folders/1YExYGC_50JSuFix-RpaNYnh3igC5tUeq?usp=sharing\n",
        "se nalazi po 30 šifrata generisanih na osnovu dva šifarska sistema: Rijndeal (AES ) i\n",
        "MARS. Šifarski sistemi rade u blok modu ECB. U toku generisanja ovih šifrata\n",
        "unutrašnji (tajni ključevi) su ostali fiksni.\n",
        "1. Podeliti raspoložive podatke na trening i test skup u odnosu 70% - 30%.\n",
        "2. Dizajnirati sistem mašinskog učenja koji ima za cilj da razlikuje ova dva šifarska\n",
        "sistema na osnovu šifrata.\n",
        "3. U slobodu izbora parametara sistema spada i izbor alfabeta nad kojim će se\n",
        "raditi (binarni, ....), kao i dužina ulaznih vektora obeležja.\n",
        "Projekat se smatra završenim, ukoliko je praćen Python Notebook-om ( ili\n",
        "dokumentovanim kodom u nekom drugom jeziku), izveštajem koji obuhvata izbor\n",
        "obeležja, izbor sistema mašinskog učenja i rezultate na testu skupu. Za metod\n",
        "testiranja usvojiti 5-tostruku krosvalidaciju. Rezultat se izražava srednjom vrednošću\n",
        "i disperzijom.\n",
        "Rangiranje projekata će se vršiti na osnovu ostvarene tačnosti.\n",
        "Rok za podnošenje projekta: 10.01.2022 do 24:00"
      ]
    },
    {
      "cell_type": "code",
      "execution_count": 4,
      "metadata": {
        "colab": {
          "base_uri": "https://localhost:8080/"
        },
        "id": "ox0Swg-MX0Ej",
        "outputId": "e76ccaf3-63da-4b1f-cef4-864bd5e7079a"
      },
      "outputs": [
        {
          "name": "stdout",
          "output_type": "stream",
          "text": [
            "10 nije\n"
          ]
        }
      ],
      "source": [
        "# TEST KOD\n",
        "\n",
        "num = 10 # mora da bude jedan broj tj jedan karakter da bi kod vratio da 'jeste'\n",
        "\n",
        "flag = False;\n",
        "\n",
        "if num > 1:\n",
        "  for i in range(2, num):\n",
        "    if (num % i) == 0:\n",
        "      flag = True\n",
        "      break\n",
        "\n",
        "if flag:\n",
        "  print(num, \"nije\")\n",
        "else: \n",
        "    print(num, \"jeste\")"
      ]
    },
    {
      "cell_type": "code",
      "execution_count": 7,
      "metadata": {
        "id": "-xjzotpbXEIF"
      },
      "outputs": [],
      "source": [
        "# Kod mene radi TkAgg. \n",
        "# Agg nece da prikaze graficki prikaz jer pokrecem .ipynb preko Visual Studio Code....\n",
        "# TkAgg prikazace isto sto i Agg samo u novom prozoru.\n",
        "\n",
        "import matplotlib\n",
        "import numpy\n",
        "import matplotlib.pyplot as plt\n",
        "matplotlib.use('TkAgg') \n",
        "numpy.random.seed(2)\n",
        "\n",
        "x = numpy.random.normal(3, 1, 100)\n",
        "y = numpy.random.normal(150, 40, 100) / x\n",
        "\n",
        "plt.scatter(x, y)\n",
        "plt.show()\n"
      ]
    },
    {
      "cell_type": "code",
      "execution_count": 2,
      "metadata": {},
      "outputs": [
        {
          "ename": "NameError",
          "evalue": "name 'img' is not defined",
          "output_type": "error",
          "traceback": [
            "\u001b[1;31m---------------------------------------------------------------------------\u001b[0m",
            "\u001b[1;31mNameError\u001b[0m                                 Traceback (most recent call last)",
            "\u001b[1;32mx:\\Zaispit_kripto II\\IspitniZadatak2022.ipynb Cell 4'\u001b[0m in \u001b[0;36m<cell line: 4>\u001b[1;34m()\u001b[0m\n\u001b[0;32m      <a href='vscode-notebook-cell:/x%3A/Zaispit_kripto%20II/IspitniZadatak2022.ipynb#ch0000004?line=1'>2</a>\u001b[0m \u001b[39mimport\u001b[39;00m \u001b[39mnumpy\u001b[39;00m \u001b[39mas\u001b[39;00m \u001b[39mnp\u001b[39;00m\n\u001b[0;32m      <a href='vscode-notebook-cell:/x%3A/Zaispit_kripto%20II/IspitniZadatak2022.ipynb#ch0000004?line=2'>3</a>\u001b[0m data \u001b[39m=\u001b[39m np\u001b[39m.\u001b[39mrandom\u001b[39m.\u001b[39mrandom((\u001b[39m10\u001b[39m, \u001b[39m10\u001b[39m))\n\u001b[1;32m----> <a href='vscode-notebook-cell:/x%3A/Zaispit_kripto%20II/IspitniZadatak2022.ipynb#ch0000004?line=3'>4</a>\u001b[0m imshow(np\u001b[39m.\u001b[39masarray(img))\n",
            "\u001b[1;31mNameError\u001b[0m: name 'img' is not defined"
          ]
        }
      ],
      "source": [
        "from matplotlib.pyplot import imshow\n",
        "import numpy as np\n",
        "data = np.random.random((10, 10))\n",
        "imshow(np.asarray(img))\n"
      ]
    },
    {
      "cell_type": "markdown",
      "metadata": {},
      "source": []
    }
  ],
  "metadata": {
    "colab": {
      "collapsed_sections": [],
      "name": "IspitniZadatak2022.ipynb",
      "provenance": []
    },
    "kernelspec": {
      "display_name": "Python 3.10.4 64-bit",
      "language": "python",
      "name": "python3"
    },
    "language_info": {
      "codemirror_mode": {
        "name": "ipython",
        "version": 3
      },
      "file_extension": ".py",
      "mimetype": "text/x-python",
      "name": "python",
      "nbconvert_exporter": "python",
      "pygments_lexer": "ipython3",
      "version": "3.10.4"
    },
    "vscode": {
      "interpreter": {
        "hash": "369f2c481f4da34e4445cda3fffd2e751bd1c4d706f27375911949ba6bb62e1c"
      }
    }
  },
  "nbformat": 4,
  "nbformat_minor": 0
}
